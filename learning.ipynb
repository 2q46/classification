{
 "cells": [
  {
   "cell_type": "code",
   "execution_count": 25,
   "id": "9660eb2a-89fb-4b5e-90a2-91338115b0b5",
   "metadata": {
    "scrolled": true
   },
   "outputs": [],
   "source": [
    "# libraries\n",
    "import torch\n",
    "import torch.nn as nn\n",
    "import torch.nn.functional as F\n",
    "import torch.optim as optimizer\n",
    "from torch.utils.data import Dataset, DataLoader\n",
    "import pandas as pd\n",
    "import matplotlib.pyplot as plt\n",
    "from sklearn.model_selection import train_test_split\n",
    "import numpy as np"
   ]
  },
  {
   "cell_type": "code",
   "execution_count": 26,
   "id": "75f996e1-0fcc-4810-a639-f7c0600b708c",
   "metadata": {},
   "outputs": [],
   "source": [
    "torch.manual_seed(12)\n",
    "\n",
    "device = ('cuda' if torch.cuda.is_available else 'cpu')\n",
    "\n",
    "TRAIN_DATA_PATH = 'Datasets/fashion_mnist/train.csv'\n",
    "TEST_DATA_PATH = 'Datasets/fashion_mnist/test.csv'\n",
    "\n",
    "train_df = pd.read_csv(TRAIN_DATA_PATH)\n",
    "test_df = pd.read_csv(TEST_DATA_PATH)"
   ]
  },
  {
   "cell_type": "code",
   "execution_count": 15,
   "id": "f1833085-44c0-47d1-99fc-6714585c1e56",
   "metadata": {},
   "outputs": [
    {
     "data": {
      "text/plain": [
       "(60000, 785)"
      ]
     },
     "execution_count": 15,
     "metadata": {},
     "output_type": "execute_result"
    }
   ],
   "source": [
    "train_df.shape"
   ]
  },
  {
   "cell_type": "code",
   "execution_count": 27,
   "id": "f926a286-5657-4b2c-b966-861739003c64",
   "metadata": {},
   "outputs": [
    {
     "data": {
      "text/plain": [
       "(10000, 785)"
      ]
     },
     "execution_count": 27,
     "metadata": {},
     "output_type": "execute_result"
    }
   ],
   "source": [
    "test_df.shape"
   ]
  },
  {
   "cell_type": "code",
   "execution_count": 28,
   "id": "02d07252-7b2d-4402-b5bd-76a34d0b8da0",
   "metadata": {
    "scrolled": true
   },
   "outputs": [
    {
     "data": {
      "image/png": "[encoded data removed]",
      "text/plain": [
       "<Figure size 640x480 with 1 Axes>"
      ]
     },
     "metadata": {},
     "output_type": "display_data"
    },
    {
     "data": {
      "image/png": "[encoded data removed]",
      "text/plain": [
       "<Figure size 640x480 with 1 Axes>"
      ]
     },
     "metadata": {},
     "output_type": "display_data"
    },
    {
     "data": {
      "image/png": "[encoded data removed]",
      "text/plain": [
       "<Figure size 640x480 with 1 Axes>"
      ]
     },
     "metadata": {},
     "output_type": "display_data"
    }
   ],
   "source": [
    "# show first 3 images\n",
    "for i in range(3):\n",
    "    img = train_df.iloc[i, 1:].values.reshape(28,28)\n",
    "    plt.imshow(img) \n",
    "    plt.axis('off')\n",
    "    plt.show()"
   ]
  },
  {
   "cell_type": "code",
   "execution_count": 29,
   "id": "7a93b4bb-c4d2-47a4-9359-bfd72cb7c892",
   "metadata": {},
   "outputs": [
    {
     "name": "stdout",
     "output_type": "stream",
     "text": [
      "(48000, 784)\n",
      "(48000,)\n"
     ]
    }
   ],
   "source": [
    "X = train_df.iloc[:,1:] # rest pixel values\n",
    "y = train_df.iloc[:, 0] # label is in the first\n",
    "\n",
    "X_train, X_test, y_train, y_test = train_test_split(X, y, test_size = 0.2, random_state=12)\n",
    "\n",
    "X_train = X_train / 255.0\n",
    "X_test = X_test / 255.0\n",
    "\n",
    "print(X_train.shape)\n",
    "print(y_train.shape)"
   ]
  },
  {
   "cell_type": "code",
   "execution_count": 30,
   "id": "70ef0cbf-6d21-45dc-a2f9-4b8868418d8f",
   "metadata": {},
   "outputs": [],
   "source": [
    "class dataset(Dataset):\n",
    "\n",
    "    def __init__(self, features, labels):\n",
    "\n",
    "        features = np.array(features) # idk why i have to do this before convt to torch tensor\n",
    "        labels = np.array(labels)\n",
    "        \n",
    "        self.features = torch.tensor(features, dtype=torch.float32)\n",
    "        self.labels = torch.tensor(labels, dtype=torch.float32)\n",
    "        \n",
    "    def __len__(self):\n",
    "        \n",
    "        return self.features.shape[0]\n",
    "\n",
    "    def __getitem__(self, idx):\n",
    "        \n",
    "        return self.features[idx], self.labels[idx]"
   ]
  },
  {
   "cell_type": "code",
   "execution_count": 31,
   "id": "7fc8288d-1a93-4228-980a-b536c82bb933",
   "metadata": {
    "scrolled": true
   },
   "outputs": [],
   "source": [
    "train_dataset = dataset(X_train, y_train)\n",
    "test_dataset = dataset(X_test, y_test)"
   ]
  },
  {
   "cell_type": "code",
   "execution_count": 32,
   "id": "db740969-9083-48da-a862-fd6440a6387c",
   "metadata": {},
   "outputs": [],
   "source": [
    "train_loader = DataLoader(train_dataset, batch_size=32, shuffle=True)\n",
    "test_loader = DataLoader(test_dataset, batch_size=32, shuffle=True)"
   ]
  },
  {
   "cell_type": "code",
   "execution_count": 47,
   "id": "9ac0c297-a60e-44b5-931e-ea632ac8a52d",
   "metadata": {},
   "outputs": [],
   "source": [
    "class NeuralNet(nn.Module):\n",
    "\n",
    "    def __init__(self, in_features, out_features, lr):\n",
    "\n",
    "        super().__init__()\n",
    "\n",
    "        self.Linear1 = nn.Linear(in_features=in_features, out_features=128)\n",
    "        self.Linear2 = nn.Linear(in_features=128, out_features=64)\n",
    "        self.Linear3 = nn.Linear(in_features=64, out_features=out_features)\n",
    "\n",
    "        self.Dropout1 = nn.Dropout(p=0.3)\n",
    "        self.Dropout2 = nn.Dropout(p=0.3)\n",
    "\n",
    "        self.BatchNorm1 = nn.BatchNorm1d(128)\n",
    "        self.BatchNorm2 = nn.BatchNorm1d(64)\n",
    "\n",
    "        self.optimizer = optimizer.Adam(self.parameters(), lr=lr)\n",
    "        self.loss_function = nn.CrossEntropyLoss()\n",
    "\n",
    "    def forward(self, x):\n",
    "\n",
    "        x = self.Linear1(x)\n",
    "        x = self.BatchNorm1(x)\n",
    "        x = self.Dropout1(F.relu(x))\n",
    "        \n",
    "        x = self.Linear2(x)\n",
    "        x = self.BatchNorm2(x)\n",
    "        x = self.Dropout2(F.relu(x))\n",
    "        \n",
    "        x = self.Linear3(x)\n",
    "        x = F.softmax(x)\n",
    "\n",
    "        return x\n",
    "\n",
    "    def compute_loss(self, y_pred, y_true):\n",
    "\n",
    "        return self.loss_function(y_pred, y_true.long())\n",
    "        \n",
    "neuralNet = NeuralNet(in_features=X_train.shape[1], out_features=10, lr=1e-4)"
   ]
  },
  {
   "cell_type": "code",
   "execution_count": 51,
   "id": "ae00ae4d-f8f9-435e-bfc8-673614ac9ea6",
   "metadata": {},
   "outputs": [
    {
     "name": "stderr",
     "output_type": "stream",
     "text": [
      "/var/folders/d7/w273k3tx6q70_9wxncth_6d00000gn/T/ipykernel_22218/3072692335.py:31: UserWarning: Implicit dimension choice for softmax has been deprecated. Change the call to include dim=X as an argument.\n",
      "  x = F.softmax(x)\n"
     ]
    },
    {
     "name": "stdout",
     "output_type": "stream",
     "text": [
      " Average loss for epoch 1: 1.550549336830775\n",
      " Average loss for epoch 2: 1.5465018142064413\n",
      " Average loss for epoch 3: 1.5438213857809702\n",
      " Average loss for epoch 4: 1.5424014971256257\n",
      " Average loss for epoch 5: 1.5406749683221181\n",
      " Average loss for epoch 6: 1.540378675619761\n",
      " Average loss for epoch 7: 1.538921307404836\n",
      " Average loss for epoch 8: 1.5374060486157735\n",
      " Average loss for epoch 9: 1.5371114060878754\n",
      " Average loss for epoch 10: 1.5366278981367747\n",
      " Average loss for epoch 11: 1.5345417443116507\n",
      " Average loss for epoch 12: 1.5336560346285502\n",
      " Average loss for epoch 13: 1.5334675705432892\n",
      " Average loss for epoch 14: 1.5338875125249227\n",
      " Average loss for epoch 15: 1.5326154900391897\n",
      " Average loss for epoch 16: 1.5324968674977621\n",
      " Average loss for epoch 17: 1.531016255458196\n",
      " Average loss for epoch 18: 1.530894359032313\n",
      " Average loss for epoch 19: 1.529555219888687\n",
      " Average loss for epoch 20: 1.5303245294888814\n",
      " Average loss for epoch 21: 1.529352288722992\n",
      " Average loss for epoch 22: 1.5281011720498403\n",
      " Average loss for epoch 23: 1.5277401030858357\n",
      " Average loss for epoch 24: 1.5255788615544636\n",
      " Average loss for epoch 25: 1.5264606532255809\n",
      " Average loss for epoch 26: 1.5263182765642802\n",
      " Average loss for epoch 27: 1.526148205280304\n",
      " Average loss for epoch 28: 1.5257644657293956\n",
      " Average loss for epoch 29: 1.5252664920488994\n",
      " Average loss for epoch 30: 1.5240335243542988\n",
      " Average loss for epoch 31: 1.5266913449764252\n",
      " Average loss for epoch 32: 1.5238991479873658\n",
      " Average loss for epoch 33: 1.523127725760142\n",
      " Average loss for epoch 34: 1.5235168759028117\n",
      " Average loss for epoch 35: 1.523244308789571\n",
      " Average loss for epoch 36: 1.5228461099465689\n",
      " Average loss for epoch 37: 1.5217098305225372\n",
      " Average loss for epoch 38: 1.5225405232906342\n",
      " Average loss for epoch 39: 1.5199187870820363\n",
      " Average loss for epoch 40: 1.5203734026749929\n",
      " Average loss for epoch 41: 1.5211230303446452\n",
      " Average loss for epoch 42: 1.520756309111913\n",
      " Average loss for epoch 43: 1.5202754426002503\n",
      " Average loss for epoch 44: 1.519610060930252\n",
      " Average loss for epoch 45: 1.5194025887648264\n",
      " Average loss for epoch 46: 1.5201815201441446\n",
      " Average loss for epoch 47: 1.5186441084543865\n",
      " Average loss for epoch 48: 1.51978724861145\n",
      " Average loss for epoch 49: 1.5174784762064615\n",
      " Average loss for epoch 50: 1.5179054240385692\n",
      " Average loss for epoch 51: 1.5186476208368938\n",
      " Average loss for epoch 52: 1.5180801021258037\n",
      " Average loss for epoch 53: 1.5177026309172312\n",
      " Average loss for epoch 54: 1.5181696526209514\n",
      " Average loss for epoch 55: 1.517282814502716\n",
      " Average loss for epoch 56: 1.5159472569624584\n",
      " Average loss for epoch 57: 1.5172463570435841\n",
      " Average loss for epoch 58: 1.517531334877014\n",
      " Average loss for epoch 59: 1.517782796462377\n",
      " Average loss for epoch 60: 1.5158248703479766\n",
      " Average loss for epoch 61: 1.5157341663837434\n",
      " Average loss for epoch 62: 1.517031458536784\n",
      " Average loss for epoch 63: 1.515257168372472\n",
      " Average loss for epoch 64: 1.5157417781352998\n",
      " Average loss for epoch 65: 1.5153475778897603\n",
      " Average loss for epoch 66: 1.5151165155569712\n",
      " Average loss for epoch 67: 1.5143474520842235\n",
      " Average loss for epoch 68: 1.5157933341662089\n",
      " Average loss for epoch 69: 1.5137776721318563\n",
      " Average loss for epoch 70: 1.514221828063329\n",
      " Average loss for epoch 71: 1.514813828309377\n",
      " Average loss for epoch 72: 1.5131451308727264\n",
      " Average loss for epoch 73: 1.515009051322937\n",
      " Average loss for epoch 74: 1.5137480152448017\n",
      " Average loss for epoch 75: 1.513243825038274\n",
      " Average loss for epoch 76: 1.5123272591431935\n",
      " Average loss for epoch 77: 1.5134612975915274\n",
      " Average loss for epoch 78: 1.5121700948079426\n",
      " Average loss for epoch 79: 1.513335878610611\n",
      " Average loss for epoch 80: 1.511763633886973\n",
      " Average loss for epoch 81: 1.5117574527263642\n",
      " Average loss for epoch 82: 1.5138352437814078\n",
      " Average loss for epoch 83: 1.5120963377952577\n",
      " Average loss for epoch 84: 1.5112020839850109\n",
      " Average loss for epoch 85: 1.5114328706264495\n",
      " Average loss for epoch 86: 1.5108431917031606\n",
      " Average loss for epoch 87: 1.5123281061649323\n",
      " Average loss for epoch 88: 1.5101012932459514\n",
      " Average loss for epoch 89: 1.510655543088913\n",
      " Average loss for epoch 90: 1.5099857498009999\n",
      " Average loss for epoch 91: 1.5108760389486948\n",
      " Average loss for epoch 92: 1.5101760613918305\n",
      " Average loss for epoch 93: 1.5110182202657063\n",
      " Average loss for epoch 94: 1.5100943936506908\n",
      " Average loss for epoch 95: 1.5098570558230082\n",
      " Average loss for epoch 96: 1.5109714643160501\n",
      " Average loss for epoch 97: 1.510919836997986\n",
      " Average loss for epoch 98: 1.5093950995604197\n",
      " Average loss for epoch 99: 1.5096911746660868\n",
      " Average loss for epoch 100: 1.5101289060115815\n"
     ]
    }
   ],
   "source": [
    "EPOCHS = 100\n",
    "\n",
    "for epoch in range(EPOCHS):\n",
    "\n",
    "    total_epoch_loss = 0.0\n",
    "    \n",
    "    for batch_features, batch_labels in train_loader:\n",
    "\n",
    "        y_pred = neuralNet.forward(batch_features)\n",
    "        \n",
    "        loss = neuralNet.compute_loss(y_pred, batch_labels)\n",
    "        neuralNet.optimizer.zero_grad()\n",
    "        loss.backward()\n",
    "        neuralNet.optimizer.step()\n",
    "\n",
    "        total_epoch_loss += loss.item()\n",
    "\n",
    "    avg_loss = total_epoch_loss/len(train_loader)\n",
    "\n",
    "    print(f\" Average loss for epoch {epoch+1}: {avg_loss}\")\n",
    "        "
   ]
  },
  {
   "cell_type": "code",
   "execution_count": 52,
   "id": "0b4882f5-940b-411c-b34d-7db6c43e30cc",
   "metadata": {},
   "outputs": [
    {
     "data": {
      "text/plain": [
       "NeuralNet(\n",
       "  (Linear1): Linear(in_features=784, out_features=128, bias=True)\n",
       "  (Linear2): Linear(in_features=128, out_features=64, bias=True)\n",
       "  (Linear3): Linear(in_features=64, out_features=10, bias=True)\n",
       "  (Dropout1): Dropout(p=0.3, inplace=False)\n",
       "  (Dropout2): Dropout(p=0.3, inplace=False)\n",
       "  (BatchNorm1): BatchNorm1d(128, eps=1e-05, momentum=0.1, affine=True, track_running_stats=True)\n",
       "  (BatchNorm2): BatchNorm1d(64, eps=1e-05, momentum=0.1, affine=True, track_running_stats=True)\n",
       "  (loss_function): CrossEntropyLoss()\n",
       ")"
      ]
     },
     "execution_count": 52,
     "metadata": {},
     "output_type": "execute_result"
    }
   ],
   "source": [
    "neuralNet.eval()"
   ]
  },
  {
   "cell_type": "code",
   "execution_count": 53,
   "id": "6cb3323b-98e8-4249-bbae-80e99c2ad44c",
   "metadata": {},
   "outputs": [
    {
     "name": "stderr",
     "output_type": "stream",
     "text": [
      "/var/folders/d7/w273k3tx6q70_9wxncth_6d00000gn/T/ipykernel_22218/3072692335.py:31: UserWarning: Implicit dimension choice for softmax has been deprecated. Change the call to include dim=X as an argument.\n",
      "  x = F.softmax(x)\n"
     ]
    },
    {
     "name": "stdout",
     "output_type": "stream",
     "text": [
      "88.76666666666667\n"
     ]
    }
   ],
   "source": [
    "total = 0\n",
    "correct = 0\n",
    "\n",
    "with torch.no_grad():\n",
    "\n",
    "    for batch_features, batch_labels in test_loader:\n",
    "\n",
    "        outputs = neuralNet.forward(batch_features)\n",
    "        _, predicted = torch.max(outputs, 1)\n",
    "\n",
    "        total += batch_features.shape[0]\n",
    "        correct += (predicted == batch_labels).sum().item()\n",
    "    \n",
    "print(100*correct/total) # accuracy"
   ]
  }
 ],
 "metadata": {
  "interpreter": {
   "hash": "d29aadf8c40486f696477cfe8cf321ec79e538c55b0f6b1a5510030ef90d3cb3"
  },
  "kernelspec": {
   "display_name": "Python 3 (ipykernel)",
   "language": "python",
   "name": "python3"
  },
  "language_info": {
   "codemirror_mode": {
    "name": "ipython",
    "version": 3
   },
   "file_extension": ".py",
   "mimetype": "text/x-python",
   "name": "python",
   "nbconvert_exporter": "python",
   "pygments_lexer": "ipython3",
   "version": "3.13.2"
  }
 },
 "nbformat": 4,
 "nbformat_minor": 5
}
